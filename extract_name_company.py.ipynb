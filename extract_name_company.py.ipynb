{
 "cells": [
  {
   "cell_type": "code",
   "execution_count": 1,
   "metadata": {
    "collapsed": true
   },
   "outputs": [],
   "source": [
    "import pandas as pd\n"
   ]
  },
  {
   "cell_type": "code",
   "execution_count": 3,
   "outputs": [
    {
     "data": {
      "text/plain": "   Unnamed: 0                    title        time  \\\n0           0                 习近平在天津考察  2019-01-17   \n1           1                 习近平在深圳考察  2018-10-24   \n2           2               习近平在广东珠海考察  2018-10-23   \n3           3                 习近平在辽宁考察  2018-09-27   \n4           4  习近平考察菏泽牡丹产业园：今天长了见识新闻频道  2013-11-27   \n\n                                                text  \n0  17日上午，习近平来到天津考察调研。在南开大学，他参观了百年校史主题展览，与部分院士、专家和...  \n1  24日上午，习近平在深圳改革开放展览馆参观了“大潮起珠江――广东改革开放40周年展览”。这是...  \n2  10月22日，中共中央总书记、国家主席、中央军委主席习近平在广东珠海考察。这是习近平在横琴新...  \n3  9月27日上午，习近平乘车前往中国石油辽阳石化公司，开始在辽宁考察。这也是习近平东北之行的第...  \n4  习近平：“这两本书我要仔细看看”\\n\\n新华网北京11月26日电 据新华社“新华视点”微博报...  ",
      "text/html": "<div>\n<style scoped>\n    .dataframe tbody tr th:only-of-type {\n        vertical-align: middle;\n    }\n\n    .dataframe tbody tr th {\n        vertical-align: top;\n    }\n\n    .dataframe thead th {\n        text-align: right;\n    }\n</style>\n<table border=\"1\" class=\"dataframe\">\n  <thead>\n    <tr style=\"text-align: right;\">\n      <th></th>\n      <th>Unnamed: 0</th>\n      <th>title</th>\n      <th>time</th>\n      <th>text</th>\n    </tr>\n  </thead>\n  <tbody>\n    <tr>\n      <th>0</th>\n      <td>0</td>\n      <td>习近平在天津考察</td>\n      <td>2019-01-17</td>\n      <td>17日上午，习近平来到天津考察调研。在南开大学，他参观了百年校史主题展览，与部分院士、专家和...</td>\n    </tr>\n    <tr>\n      <th>1</th>\n      <td>1</td>\n      <td>习近平在深圳考察</td>\n      <td>2018-10-24</td>\n      <td>24日上午，习近平在深圳改革开放展览馆参观了“大潮起珠江――广东改革开放40周年展览”。这是...</td>\n    </tr>\n    <tr>\n      <th>2</th>\n      <td>2</td>\n      <td>习近平在广东珠海考察</td>\n      <td>2018-10-23</td>\n      <td>10月22日，中共中央总书记、国家主席、中央军委主席习近平在广东珠海考察。这是习近平在横琴新...</td>\n    </tr>\n    <tr>\n      <th>3</th>\n      <td>3</td>\n      <td>习近平在辽宁考察</td>\n      <td>2018-09-27</td>\n      <td>9月27日上午，习近平乘车前往中国石油辽阳石化公司，开始在辽宁考察。这也是习近平东北之行的第...</td>\n    </tr>\n    <tr>\n      <th>4</th>\n      <td>4</td>\n      <td>习近平考察菏泽牡丹产业园：今天长了见识新闻频道</td>\n      <td>2013-11-27</td>\n      <td>习近平：“这两本书我要仔细看看”\\n\\n新华网北京11月26日电 据新华社“新华视点”微博报...</td>\n    </tr>\n  </tbody>\n</table>\n</div>"
     },
     "execution_count": 3,
     "metadata": {},
     "output_type": "execute_result"
    }
   ],
   "source": [
    "data_df = pd.read_csv(\"Result_100pages.csv\")\n",
    "data_df.head(5)\n"
   ],
   "metadata": {
    "collapsed": false,
    "pycharm": {
     "name": "#%%\n"
    }
   }
  },
  {
   "cell_type": "code",
   "execution_count": null,
   "outputs": [],
   "source": [],
   "metadata": {
    "collapsed": false,
    "pycharm": {
     "name": "#%%\n"
    }
   }
  }
 ],
 "metadata": {
  "kernelspec": {
   "display_name": "Python 3",
   "language": "python",
   "name": "python3"
  },
  "language_info": {
   "codemirror_mode": {
    "name": "ipython",
    "version": 2
   },
   "file_extension": ".py",
   "mimetype": "text/x-python",
   "name": "python",
   "nbconvert_exporter": "python",
   "pygments_lexer": "ipython2",
   "version": "2.7.6"
  }
 },
 "nbformat": 4,
 "nbformat_minor": 0
}